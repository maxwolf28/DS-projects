{
 "cells": [
  {
   "cell_type": "markdown",
   "metadata": {},
   "source": [
    "# Построение рекомендательной системы книг на основе датасета goodbooks-10k с созданием визульного протатипа на основе streamlib"
   ]
  },
  {
   "cell_type": "markdown",
   "metadata": {},
   "source": [
    "## Небольшая предобработка данных"
   ]
  },
  {
   "cell_type": "code",
   "execution_count": 5,
   "metadata": {},
   "outputs": [],
   "source": [
    "import pickle\n",
    "import joblib\n",
    "\n",
    "import pandas as pd\n",
    "import numpy as np\n",
    "import scipy.sparse as sparse\n",
    "\n",
    "from lightfm import LightFM\n",
    "from lightfm.cross_validation import random_train_test_split\n",
    "from lightfm.evaluation import precision_at_k, recall_at_k"
   ]
  },
  {
   "cell_type": "code",
   "execution_count": 6,
   "metadata": {},
   "outputs": [],
   "source": [
    "# Прочитаем исходные данные\n",
    "ratings = pd.read_csv('app/data/ratings.csv')\n",
    "books = pd.read_csv('app/data/books.csv')\n",
    "tags = pd.read_csv('app/data/tags.csv')\n",
    "book_tags = pd.read_csv('app/data/book_tags.csv')"
   ]
  },
  {
   "cell_type": "code",
   "execution_count": 7,
   "metadata": {},
   "outputs": [
    {
     "data": {
      "text/html": [
       "<div>\n",
       "<style scoped>\n",
       "    .dataframe tbody tr th:only-of-type {\n",
       "        vertical-align: middle;\n",
       "    }\n",
       "\n",
       "    .dataframe tbody tr th {\n",
       "        vertical-align: top;\n",
       "    }\n",
       "\n",
       "    .dataframe thead th {\n",
       "        text-align: right;\n",
       "    }\n",
       "</style>\n",
       "<table border=\"1\" class=\"dataframe\">\n",
       "  <thead>\n",
       "    <tr style=\"text-align: right;\">\n",
       "      <th></th>\n",
       "      <th>tag_id</th>\n",
       "      <th>tag_name</th>\n",
       "    </tr>\n",
       "  </thead>\n",
       "  <tbody>\n",
       "    <tr>\n",
       "      <th>0</th>\n",
       "      <td>0</td>\n",
       "      <td>-</td>\n",
       "    </tr>\n",
       "    <tr>\n",
       "      <th>1</th>\n",
       "      <td>1</td>\n",
       "      <td>--1-</td>\n",
       "    </tr>\n",
       "    <tr>\n",
       "      <th>2</th>\n",
       "      <td>2</td>\n",
       "      <td>--10-</td>\n",
       "    </tr>\n",
       "    <tr>\n",
       "      <th>3</th>\n",
       "      <td>3</td>\n",
       "      <td>--12-</td>\n",
       "    </tr>\n",
       "    <tr>\n",
       "      <th>4</th>\n",
       "      <td>4</td>\n",
       "      <td>--122-</td>\n",
       "    </tr>\n",
       "  </tbody>\n",
       "</table>\n",
       "</div>"
      ],
      "text/plain": [
       "   tag_id tag_name\n",
       "0       0        -\n",
       "1       1     --1-\n",
       "2       2    --10-\n",
       "3       3    --12-\n",
       "4       4   --122-"
      ]
     },
     "execution_count": 7,
     "metadata": {},
     "output_type": "execute_result"
    }
   ],
   "source": [
    "tags.head()"
   ]
  },
  {
   "cell_type": "markdown",
   "metadata": {},
   "source": [
    "В файле tags.csv очень много неинформативных тегов.\n",
    "В нашем случае теги сильно влияют на качество модели. Поэтому мы заранее произвели их предобработку:\n",
    "\n",
    "Выбрали около 500 наиболее популярных тегов.\n",
    "Сгруппировали оставшиеся теги."
   ]
  },
  {
   "cell_type": "code",
   "execution_count": 8,
   "metadata": {},
   "outputs": [],
   "source": [
    "tags = pd.read_csv('app/data/tags_cleaned.csv')"
   ]
  },
  {
   "cell_type": "markdown",
   "metadata": {},
   "source": [
    "В датафреймах tags и books есть два идентификатора: goodreads_book_id — от сервиса Goodreads и book_id, который привязан к нашей таблице. Создадим словарь, с помощью которого сможем находить book_id книги по goodreads_book_id."
   ]
  },
  {
   "cell_type": "code",
   "execution_count": 9,
   "metadata": {},
   "outputs": [],
   "source": [
    "mapper = dict(zip(books.goodreads_book_id,books.book_id))"
   ]
  },
  {
   "cell_type": "code",
   "execution_count": 10,
   "metadata": {},
   "outputs": [],
   "source": [
    "book_tags = book_tags[book_tags.tag_id.isin(tags.tag_id)]\n",
    "book_tags['id'] = book_tags.goodreads_book_id.apply(lambda x: mapper[x])"
   ]
  },
  {
   "cell_type": "markdown",
   "metadata": {},
   "source": [
    "Для работы с моделями в библиотеке LightFM необходимо создать разрежённые матрицы. Мы будем хранить данные в самом простом формате — COO."
   ]
  },
  {
   "cell_type": "code",
   "execution_count": 11,
   "metadata": {},
   "outputs": [],
   "source": [
    "ratings_coo = sparse.coo_matrix((ratings.rating,(ratings.user_id,ratings.book_id)))\n",
    "feature_ratings  = sparse.coo_matrix(([1]*len(book_tags),(book_tags.id,book_tags.tag_id)))"
   ]
  },
  {
   "cell_type": "markdown",
   "metadata": {},
   "source": [
    "## Построение модели"
   ]
  },
  {
   "cell_type": "code",
   "execution_count": 12,
   "metadata": {},
   "outputs": [],
   "source": [
    "# число потоков процессора (зависит от того, на какой машине запускаете)\n",
    "NUM_THREADS = 8 \n",
    "\n",
    "#число параметров вектора \n",
    "NUM_COMPONENTS = 60 \n",
    "\n",
    "#число эпох обучения\n",
    "NUM_EPOCHS = 10\n",
    "\n",
    "#зерно датчика случайных чисел\n",
    "RANDOM_STATE = 42"
   ]
  },
  {
   "cell_type": "markdown",
   "metadata": {},
   "source": [
    "``` python\n",
    "\n",
    "# число потоков процессора (зависит от того, на какой машине запускаете)\n",
    "NUM_THREADS = 8 \n",
    "\n",
    "#число параметров вектора \n",
    "NUM_COMPONENTS = 60 \n",
    "\n",
    "#число эпох обучения\n",
    "NUM_EPOCHS = 10\n",
    "\n",
    "#зерно датчика случайных чисел\n",
    "RANDOM_STATE = 42\n",
    "\n",
    "#Разбиваем датасет на обучающую и тестовую выборки\n",
    "train, test = random_train_test_split(ratings_coo, test_percentage=0.2, random_state=RANDOM_STATE)\n",
    "\n",
    "#Создаём модель\n",
    "model = LightFM(\n",
    "    learning_rate=0.05, #темп (скорость) обучения\n",
    "    loss='warp', #loss-функция\n",
    "    no_components=NUM_COMPONENTS,#размерность вектора признаков\n",
    "    random_state=RANDON_STATE #генератор случайных чисел\n",
    ")\n",
    "\n",
    "#Обучаем модель\n",
    "model = model.fit(\n",
    "    train, #обучающая выборка\n",
    "    epochs=NUM_EPOCHS, #количество эпох обучения\n",
    "    num_threads=NUM_THREADS, #количество потоков процессора\n",
    "    item_features=feature_ratings #признаки товаров (рейтинги книг)\n",
    ")\n",
    "\n",
    "#Тестируем нашу модель\n",
    "precision_score = precision_at_k(\n",
    "    model, #модель\n",
    "    test, #тестовая выборка\n",
    "    num_threads=NUM_THREADS, #количество потоков процессора\n",
    "    k=10, #количество предложений\n",
    "    item_features=feature_ratings #признаки товаров\n",
    ").mean() #усредняем результаты\n",
    " \n",
    "recall_score = recall_at_k(\n",
    "    model, #модель\n",
    "    test, #тестовая выборка\n",
    "    num_threads=NUM_THREADS, #количество потоков процессора\n",
    "    k=10, #количество предложений\n",
    "    item_features=feature_ratings #признаки товаров\n",
    ").mean() #усредняем результаты\n",
    "\n",
    "print(recall_score, precision_score)\n",
    "\n",
    "with open('model.pkl', 'wb') as file:\n",
    "    pickle.dump(model, file, protocol=pickle.HIGHEST_PROTOCOL)\n",
    "\n",
    "```"
   ]
  },
  {
   "cell_type": "markdown",
   "metadata": {},
   "source": [
    "> Из-за большого размера обучающей выборки процесс обучения модели LightFM может занять вплоть до нескольких часов в зависимости от ОС и характеристик компьютера. Чтобы не тратить время и сосредоточиться на следующих этапах, отдельно обучим модель и сохраним ее в формат pickle."
   ]
  },
  {
   "cell_type": "code",
   "execution_count": 13,
   "metadata": {},
   "outputs": [],
   "source": [
    "with open('app/model.pkl', 'rb') as file:\n",
    "    model = pickle.load(file)"
   ]
  },
  {
   "cell_type": "markdown",
   "metadata": {},
   "source": [
    "## Тестирование"
   ]
  },
  {
   "cell_type": "code",
   "execution_count": 14,
   "metadata": {},
   "outputs": [
    {
     "name": "stdout",
     "output_type": "stream",
     "text": [
      "0.042941267380755835 0.0925424\n"
     ]
    }
   ],
   "source": [
    "#Разбиваем датасет на обучающую и тестовую выборки\n",
    "train, test = random_train_test_split(ratings_coo, test_percentage=0.2, random_state=RANDOM_STATE)\n",
    "#Тестируем нашу модель\n",
    "precision_score = precision_at_k(\n",
    "    model, #модель\n",
    "    test, #тестовая выборка\n",
    "    num_threads=NUM_THREADS, #количество потоков процессора\n",
    "    k=10, #количество предложений\n",
    "    item_features=feature_ratings #признаки товаров\n",
    ").mean() #усредняем результаты\n",
    " \n",
    "recall_score = recall_at_k(\n",
    "    model, #модель\n",
    "    test, #тестовая выборка\n",
    "    num_threads=NUM_THREADS, #количество потоков процессора\n",
    "    k=10, #количество предложений\n",
    "    item_features=feature_ratings #признаки товаров\n",
    ").mean() #усредняем результаты\n",
    "\n",
    "print(recall_score, precision_score)"
   ]
  },
  {
   "cell_type": "markdown",
   "metadata": {},
   "source": [
    "Результаты получаются неидеальными, однако для тестирования функциональности такого baseline будет достаточно.\n",
    "\n",
    "## Добавление эмбедддингов"
   ]
  },
  {
   "cell_type": "code",
   "execution_count": 15,
   "metadata": {},
   "outputs": [
    {
     "name": "stdout",
     "output_type": "stream",
     "text": [
      "(10001,) (10001, 60)\n"
     ]
    }
   ],
   "source": [
    "# Извлекаем эмбеддинги\n",
    "item_biases, item_embeddings = model.get_item_representations(features=feature_ratings)\n",
    "\n",
    "print(item_biases.shape, item_embeddings.shape)\n",
    "## (10001,) (10001, 60)"
   ]
  },
  {
   "cell_type": "markdown",
   "metadata": {},
   "source": [
    "Будем использовать метод ближайших соседей (approximate k-nn), который реализован в библиотеке NMSLIB.\n",
    "\n",
    "В основе метода лежит идея о том, что вместо того чтобы перебирать все векторы, мы можем очень быстро обходить граф, каждая вершина которого соответсвует эмбеддингу книги."
   ]
  },
  {
   "cell_type": "code",
   "execution_count": 16,
   "metadata": {},
   "outputs": [
    {
     "name": "stderr",
     "output_type": "stream",
     "text": [
      "\n",
      "0%   10   20   30   40   50   60   70   80   90   100%\n",
      "|----|----|----|----|----|----|----|----|----|----|\n",
      "***************************************************\n"
     ]
    }
   ],
   "source": [
    "import nmslib\n",
    "\n",
    "#Создаём граф для поиска\n",
    "nms_idx = nmslib.init(method='hnsw', space='cosinesimil')\n",
    " \n",
    "#Начинаем добавлять книги в граф\n",
    "nms_idx.addDataPointBatch(item_embeddings)\n",
    "nms_idx.createIndex(print_progress=True)\n",
    "\n",
    "#Вспомогательная функция для поиска по графу\n",
    "def nearest_books_nms(book_id, index, n=10):\n",
    "    nn = index.knnQuery(item_embeddings[book_id], k=n)\n",
    "    return nn"
   ]
  },
  {
   "cell_type": "markdown",
   "metadata": {},
   "source": [
    "Давайте протестируем работу поиска рекомендаций на уровне интуиции.\n",
    "\n",
    "## АНАЛИЗ РЕКОМЕНДАЦИЙ ПОСТРОЕННОЙ МОДЕЛИ\n",
    "\n",
    "Теперь, когда у нас есть функция для поиска десяти наиболее похожих книг, давайте попробуем написать рекомендации к какой-нибудь книге, например к роману «1984» Джорджа Оруэлла. Для этого воспользуемся частичным поиском по неполным совпадениям в столбце title. Уберём чувствительность к регистру, приведя оригинальные названия к нижнему регистру."
   ]
  },
  {
   "cell_type": "code",
   "execution_count": 17,
   "metadata": {},
   "outputs": [
    {
     "data": {
      "text/html": [
       "<div>\n",
       "<style scoped>\n",
       "    .dataframe tbody tr th:only-of-type {\n",
       "        vertical-align: middle;\n",
       "    }\n",
       "\n",
       "    .dataframe tbody tr th {\n",
       "        vertical-align: top;\n",
       "    }\n",
       "\n",
       "    .dataframe thead th {\n",
       "        text-align: right;\n",
       "    }\n",
       "</style>\n",
       "<table border=\"1\" class=\"dataframe\">\n",
       "  <thead>\n",
       "    <tr style=\"text-align: right;\">\n",
       "      <th></th>\n",
       "      <th>book_id</th>\n",
       "      <th>goodreads_book_id</th>\n",
       "      <th>best_book_id</th>\n",
       "      <th>work_id</th>\n",
       "      <th>books_count</th>\n",
       "      <th>isbn</th>\n",
       "      <th>isbn13</th>\n",
       "      <th>authors</th>\n",
       "      <th>original_publication_year</th>\n",
       "      <th>original_title</th>\n",
       "      <th>...</th>\n",
       "      <th>ratings_count</th>\n",
       "      <th>work_ratings_count</th>\n",
       "      <th>work_text_reviews_count</th>\n",
       "      <th>ratings_1</th>\n",
       "      <th>ratings_2</th>\n",
       "      <th>ratings_3</th>\n",
       "      <th>ratings_4</th>\n",
       "      <th>ratings_5</th>\n",
       "      <th>image_url</th>\n",
       "      <th>small_image_url</th>\n",
       "    </tr>\n",
       "  </thead>\n",
       "  <tbody>\n",
       "    <tr>\n",
       "      <th>12</th>\n",
       "      <td>13</td>\n",
       "      <td>5470</td>\n",
       "      <td>5470</td>\n",
       "      <td>153313</td>\n",
       "      <td>995</td>\n",
       "      <td>451524934</td>\n",
       "      <td>9.780452e+12</td>\n",
       "      <td>George Orwell, Erich Fromm, Celâl Üster</td>\n",
       "      <td>1949.0</td>\n",
       "      <td>Nineteen Eighty-Four</td>\n",
       "      <td>...</td>\n",
       "      <td>1956832</td>\n",
       "      <td>2053394</td>\n",
       "      <td>45518</td>\n",
       "      <td>41845</td>\n",
       "      <td>86425</td>\n",
       "      <td>324874</td>\n",
       "      <td>692021</td>\n",
       "      <td>908229</td>\n",
       "      <td>https://images.gr-assets.com/books/1348990566m...</td>\n",
       "      <td>https://images.gr-assets.com/books/1348990566s...</td>\n",
       "    </tr>\n",
       "    <tr>\n",
       "      <th>845</th>\n",
       "      <td>846</td>\n",
       "      <td>5472</td>\n",
       "      <td>5472</td>\n",
       "      <td>2966408</td>\n",
       "      <td>51</td>\n",
       "      <td>151010269</td>\n",
       "      <td>9.780151e+12</td>\n",
       "      <td>George Orwell, Christopher Hitchens</td>\n",
       "      <td>1950.0</td>\n",
       "      <td>Animal Farm &amp; 1984</td>\n",
       "      <td>...</td>\n",
       "      <td>116197</td>\n",
       "      <td>118761</td>\n",
       "      <td>1293</td>\n",
       "      <td>1212</td>\n",
       "      <td>3276</td>\n",
       "      <td>16511</td>\n",
       "      <td>40583</td>\n",
       "      <td>57179</td>\n",
       "      <td>https://images.gr-assets.com/books/1327959366m...</td>\n",
       "      <td>https://images.gr-assets.com/books/1327959366s...</td>\n",
       "    </tr>\n",
       "    <tr>\n",
       "      <th>9795</th>\n",
       "      <td>9796</td>\n",
       "      <td>201145</td>\n",
       "      <td>201145</td>\n",
       "      <td>2563528</td>\n",
       "      <td>25</td>\n",
       "      <td>64440508</td>\n",
       "      <td>9.780064e+12</td>\n",
       "      <td>Else Holmelund Minarik, Maurice Sendak</td>\n",
       "      <td>1968.0</td>\n",
       "      <td>A Kiss for Little Bear</td>\n",
       "      <td>...</td>\n",
       "      <td>11063</td>\n",
       "      <td>11604</td>\n",
       "      <td>126</td>\n",
       "      <td>87</td>\n",
       "      <td>284</td>\n",
       "      <td>1898</td>\n",
       "      <td>3053</td>\n",
       "      <td>6282</td>\n",
       "      <td>https://s.gr-assets.com/assets/nophoto/book/11...</td>\n",
       "      <td>https://s.gr-assets.com/assets/nophoto/book/50...</td>\n",
       "    </tr>\n",
       "  </tbody>\n",
       "</table>\n",
       "<p>3 rows × 23 columns</p>\n",
       "</div>"
      ],
      "text/plain": [
       "      book_id  goodreads_book_id  best_book_id  work_id  books_count  \\\n",
       "12         13               5470          5470   153313          995   \n",
       "845       846               5472          5472  2966408           51   \n",
       "9795     9796             201145        201145  2563528           25   \n",
       "\n",
       "           isbn        isbn13                                  authors  \\\n",
       "12    451524934  9.780452e+12  George Orwell, Erich Fromm, Celâl Üster   \n",
       "845   151010269  9.780151e+12      George Orwell, Christopher Hitchens   \n",
       "9795   64440508  9.780064e+12   Else Holmelund Minarik, Maurice Sendak   \n",
       "\n",
       "      original_publication_year          original_title  ... ratings_count  \\\n",
       "12                       1949.0    Nineteen Eighty-Four  ...       1956832   \n",
       "845                      1950.0      Animal Farm & 1984  ...        116197   \n",
       "9795                     1968.0  A Kiss for Little Bear  ...         11063   \n",
       "\n",
       "     work_ratings_count  work_text_reviews_count  ratings_1  ratings_2  \\\n",
       "12              2053394                    45518      41845      86425   \n",
       "845              118761                     1293       1212       3276   \n",
       "9795              11604                      126         87        284   \n",
       "\n",
       "      ratings_3  ratings_4  ratings_5  \\\n",
       "12       324874     692021     908229   \n",
       "845       16511      40583      57179   \n",
       "9795       1898       3053       6282   \n",
       "\n",
       "                                              image_url  \\\n",
       "12    https://images.gr-assets.com/books/1348990566m...   \n",
       "845   https://images.gr-assets.com/books/1327959366m...   \n",
       "9795  https://s.gr-assets.com/assets/nophoto/book/11...   \n",
       "\n",
       "                                        small_image_url  \n",
       "12    https://images.gr-assets.com/books/1348990566s...  \n",
       "845   https://images.gr-assets.com/books/1327959366s...  \n",
       "9795  https://s.gr-assets.com/assets/nophoto/book/50...  \n",
       "\n",
       "[3 rows x 23 columns]"
      ]
     },
     "execution_count": 17,
     "metadata": {},
     "output_type": "execute_result"
    }
   ],
   "source": [
    "#Отфильтруем только те книги, в которых названии встречается подстрока \"1984\"\n",
    "books[books['title'].apply(lambda x: x.lower().find('1984')) >= 0]"
   ]
  },
  {
   "cell_type": "code",
   "execution_count": 18,
   "metadata": {},
   "outputs": [
    {
     "data": {
      "text/plain": [
       "(array([846,  14,  55,  48, 809,  13, 903, 529, 271, 173], dtype=int32),\n",
       " array([0.        , 0.03706956, 0.04132241, 0.06263614, 0.07201874,\n",
       "        0.07343107, 0.09369212, 0.09787107, 0.10064054, 0.10802871],\n",
       "       dtype=float32))"
      ]
     },
     "execution_count": 18,
     "metadata": {},
     "output_type": "execute_result"
    }
   ],
   "source": [
    "#Вызываем функцию для поиска ближайших соседей\n",
    "nearest_books_nms(846, nms_idx)"
   ]
  },
  {
   "cell_type": "markdown",
   "metadata": {},
   "source": [
    "Как мы говорили ранее, наша функция возвращает кортеж из двух массивов: numpy-вектор идентификаторов и numpy-вектор мер схожести (расстояний) между заданной книгой и её ближайшими соседями.\n",
    "\n",
    "Пока что нас интересуют только идентификаторы— выделим их в отдельную переменную:"
   ]
  },
  {
   "cell_type": "code",
   "execution_count": 19,
   "metadata": {},
   "outputs": [
    {
     "data": {
      "text/plain": [
       "array([846,  14,  55,  48, 809,  13, 903, 529, 271, 173], dtype=int32)"
      ]
     },
     "execution_count": 19,
     "metadata": {},
     "output_type": "execute_result"
    }
   ],
   "source": [
    "#Выделяем идентификаторы рекомендованных книг\n",
    "nbm = nearest_books_nms(846, nms_idx)[0]\n",
    "nbm\n",
    "## array([846,  14,  55,  48, 809,  13, 903, 529, 271, 173])"
   ]
  },
  {
   "cell_type": "markdown",
   "metadata": {},
   "source": [
    "Обратим внимание, что ближайшей к заданной книге всегда будет она сама, поэтому идентификатор этой книги всегда будет первым в списке рекомендаций. Пока что мы закроем на это глаза, однако в дальнейшем при разработке прототипа приложения мы исправим этот момент."
   ]
  },
  {
   "cell_type": "code",
   "execution_count": 20,
   "metadata": {},
   "outputs": [
    {
     "data": {
      "text/html": [
       "<div>\n",
       "<style scoped>\n",
       "    .dataframe tbody tr th:only-of-type {\n",
       "        vertical-align: middle;\n",
       "    }\n",
       "\n",
       "    .dataframe tbody tr th {\n",
       "        vertical-align: top;\n",
       "    }\n",
       "\n",
       "    .dataframe thead th {\n",
       "        text-align: right;\n",
       "    }\n",
       "</style>\n",
       "<table border=\"1\" class=\"dataframe\">\n",
       "  <thead>\n",
       "    <tr style=\"text-align: right;\">\n",
       "      <th></th>\n",
       "      <th>authors</th>\n",
       "      <th>title</th>\n",
       "    </tr>\n",
       "  </thead>\n",
       "  <tbody>\n",
       "    <tr>\n",
       "      <th>12</th>\n",
       "      <td>George Orwell, Erich Fromm, Celâl Üster</td>\n",
       "      <td>1984</td>\n",
       "    </tr>\n",
       "    <tr>\n",
       "      <th>13</th>\n",
       "      <td>George Orwell</td>\n",
       "      <td>Animal Farm</td>\n",
       "    </tr>\n",
       "    <tr>\n",
       "      <th>47</th>\n",
       "      <td>Ray Bradbury</td>\n",
       "      <td>Fahrenheit 451</td>\n",
       "    </tr>\n",
       "    <tr>\n",
       "      <th>54</th>\n",
       "      <td>Aldous Huxley</td>\n",
       "      <td>Brave New World</td>\n",
       "    </tr>\n",
       "    <tr>\n",
       "      <th>172</th>\n",
       "      <td>Anthony Burgess</td>\n",
       "      <td>A Clockwork Orange</td>\n",
       "    </tr>\n",
       "    <tr>\n",
       "      <th>270</th>\n",
       "      <td>Daniel Keyes</td>\n",
       "      <td>Flowers for Algernon</td>\n",
       "    </tr>\n",
       "    <tr>\n",
       "      <th>528</th>\n",
       "      <td>Jonathan Swift, Robert DeMaria Jr.</td>\n",
       "      <td>Gulliver's Travels</td>\n",
       "    </tr>\n",
       "    <tr>\n",
       "      <th>808</th>\n",
       "      <td>Aldous Huxley, Christopher Hitchens</td>\n",
       "      <td>Brave New World / Brave New World Revisited</td>\n",
       "    </tr>\n",
       "    <tr>\n",
       "      <th>845</th>\n",
       "      <td>George Orwell, Christopher Hitchens</td>\n",
       "      <td>Animal Farm / 1984</td>\n",
       "    </tr>\n",
       "    <tr>\n",
       "      <th>902</th>\n",
       "      <td>Ayn Rand</td>\n",
       "      <td>Anthem</td>\n",
       "    </tr>\n",
       "  </tbody>\n",
       "</table>\n",
       "</div>"
      ],
      "text/plain": [
       "                                     authors  \\\n",
       "12   George Orwell, Erich Fromm, Celâl Üster   \n",
       "13                             George Orwell   \n",
       "47                              Ray Bradbury   \n",
       "54                             Aldous Huxley   \n",
       "172                          Anthony Burgess   \n",
       "270                             Daniel Keyes   \n",
       "528       Jonathan Swift, Robert DeMaria Jr.   \n",
       "808      Aldous Huxley, Christopher Hitchens   \n",
       "845      George Orwell, Christopher Hitchens   \n",
       "902                                 Ayn Rand   \n",
       "\n",
       "                                           title  \n",
       "12                                          1984  \n",
       "13                                   Animal Farm  \n",
       "47                                Fahrenheit 451  \n",
       "54                               Brave New World  \n",
       "172                           A Clockwork Orange  \n",
       "270                         Flowers for Algernon  \n",
       "528                           Gulliver's Travels  \n",
       "808  Brave New World / Brave New World Revisited  \n",
       "845                           Animal Farm / 1984  \n",
       "902                                       Anthem  "
      ]
     },
     "execution_count": 20,
     "metadata": {},
     "output_type": "execute_result"
    }
   ],
   "source": [
    "#Посмотрим на авторов и названия рекомендованных книг\n",
    "books[books.book_id.isin(nbm)][['authors', 'title']]"
   ]
  },
  {
   "cell_type": "markdown",
   "metadata": {},
   "source": [
    "Как можно увидеть, в результатах есть действительно похожие книги. Первыми идут отдельные книги — «1984» и «Скотный двор» (\"Animal Farm\"). Далее следуют «451 градус по Фаренгейту» Рэя Брэдбери (\"Fahrenheit 451\") и «О дивный новый мир» Олдоса Хаксли (\"Brave New World\"), которые также являются антиутопиями.\n",
    "\n",
    "Сохраним полученные эмбеддинги — они пригодятся в дальнейшем при реализации прототипа:"
   ]
  },
  {
   "cell_type": "code",
   "execution_count": 21,
   "metadata": {},
   "outputs": [],
   "source": [
    "with open('app/item_embeddings.pkl', 'wb') as file:\n",
    "    pickle.dump(item_embeddings, file, protocol=pickle.HIGHEST_PROTOCOL)\n"
   ]
  },
  {
   "cell_type": "markdown",
   "metadata": {},
   "source": [
    "Теперь создадим визуальный прототип нашей модели -> app.py"
   ]
  }
 ],
 "metadata": {
  "kernelspec": {
   "display_name": "venv",
   "language": "python",
   "name": "python3"
  },
  "language_info": {
   "codemirror_mode": {
    "name": "ipython",
    "version": 3
   },
   "file_extension": ".py",
   "mimetype": "text/x-python",
   "name": "python",
   "nbconvert_exporter": "python",
   "pygments_lexer": "ipython3",
   "version": "3.10.12"
  }
 },
 "nbformat": 4,
 "nbformat_minor": 2
}
